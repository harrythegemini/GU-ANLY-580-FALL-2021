{
 "cells": [
  {
   "cell_type": "code",
   "execution_count": 84,
   "id": "8d76326d",
   "metadata": {},
   "outputs": [
    {
     "data": {
      "text/plain": [
       "['<s> I am Sam </s>',\n",
       " '<s> Sam I am </s>',\n",
       " '<s> I am Sam </s>',\n",
       " '<s> I do not like green eggs and Sam </s>']"
      ]
     },
     "execution_count": 84,
     "metadata": {},
     "output_type": "execute_result"
    }
   ],
   "source": [
    "import numpy as np\n",
    "import pandas as pd\n",
    "T1 = \"<s> I am Sam </s>\"\n",
    "T2 = \"<s> Sam I am </s>\"\n",
    "T3 = \"<s> I am Sam </s>\"\n",
    "T4 = \"<s> I do not like green eggs and Sam </s>\"\n",
    "T = []\n",
    "T.append(T1)\n",
    "T.append(T2)\n",
    "T.append(T3)\n",
    "T.append(T4)\n",
    "T"
   ]
  },
  {
   "cell_type": "code",
   "execution_count": 85,
   "id": "2a0cdd7d",
   "metadata": {},
   "outputs": [],
   "source": [
    "set_all=[]\n",
    "set1=[]\n",
    "set2=[]\n",
    "set3=[]\n",
    "set4=[]\n",
    "for i in T1.split(' '):\n",
    "    set1.append(i)\n",
    "for i in T2.split(' '):\n",
    "    set2.append(i)\n",
    "for i in T3.split(' '):\n",
    "    set3.append(i)\n",
    "for i in T4.split(' '):\n",
    "    set4.append(i)\n",
    "\n",
    "set_all.append(set1)\n",
    "set_all.append(set2)\n",
    "set_all.append(set3)\n",
    "set_all.append(set4)\n"
   ]
  },
  {
   "cell_type": "code",
   "execution_count": 86,
   "id": "2462e4b4",
   "metadata": {},
   "outputs": [
    {
     "data": {
      "text/plain": [
       "[['<s>', 'I', 'am', 'Sam', '</s>'],\n",
       " ['<s>', 'Sam', 'I', 'am', '</s>'],\n",
       " ['<s>', 'I', 'am', 'Sam', '</s>'],\n",
       " ['<s>', 'I', 'do', 'not', 'like', 'green', 'eggs', 'and', 'Sam', '</s>']]"
      ]
     },
     "execution_count": 86,
     "metadata": {},
     "output_type": "execute_result"
    }
   ],
   "source": [
    "set_all"
   ]
  },
  {
   "cell_type": "code",
   "execution_count": 87,
   "id": "e648f5a7",
   "metadata": {},
   "outputs": [
    {
     "data": {
      "text/plain": [
       "[['<s>', 'I', 'am'],\n",
       " ['I', 'am', 'Sam'],\n",
       " ['am', 'Sam', '</s>'],\n",
       " ['<s>', 'Sam', 'I'],\n",
       " ['Sam', 'I', 'am'],\n",
       " ['I', 'am', '</s>'],\n",
       " ['<s>', 'I', 'am'],\n",
       " ['I', 'am', 'Sam'],\n",
       " ['am', 'Sam', '</s>'],\n",
       " ['<s>', 'I', 'do'],\n",
       " ['I', 'do', 'not'],\n",
       " ['do', 'not', 'like'],\n",
       " ['not', 'like', 'green'],\n",
       " ['like', 'green', 'eggs'],\n",
       " ['green', 'eggs', 'and'],\n",
       " ['eggs', 'and', 'Sam'],\n",
       " ['and', 'Sam', '</s>']]"
      ]
     },
     "execution_count": 87,
     "metadata": {},
     "output_type": "execute_result"
    }
   ],
   "source": [
    "x=0\n",
    "listY=[]\n",
    "\n",
    "def rows (listY,text):\n",
    "    x=0\n",
    "    while x < len(text)-2:\n",
    "        listZ=[]\n",
    "        listZ.append(text[x])\n",
    "        listZ.append(text[x+1])\n",
    "        listZ.append(text[x+2])\n",
    "        x=x+1\n",
    "        listY.append(listZ)\n",
    "    return(listY)\n",
    "\n",
    "listY=rows(listY,set_all[0])\n",
    "listY=rows(listY,set_all[1])\n",
    "listY=rows(listY,set_all[2])\n",
    "listY=rows(listY,set_all[3])\n",
    "listY"
   ]
  },
  {
   "cell_type": "code",
   "execution_count": 88,
   "id": "ed7a1a9e",
   "metadata": {},
   "outputs": [],
   "source": [
    "def prob (bottom, up, trigram):\n",
    "    listB=[]\n",
    "    bottom=bottom.split(' ')\n",
    "    for i in trigram:\n",
    "        if (i[0] == bottom[0]) & (i[1] == bottom[1]):\n",
    "            listB.append(i)\n",
    "    x=0\n",
    "    for i in listB:\n",
    "        if i[2] == up:\n",
    "            x=x+1\n",
    "    prob = x/len(listB)\n",
    "    return(prob)\n"
   ]
  },
  {
   "cell_type": "code",
   "execution_count": 89,
   "id": "407e769a",
   "metadata": {},
   "outputs": [
    {
     "data": {
      "text/plain": [
       "0.6666666666666666"
      ]
     },
     "execution_count": 89,
     "metadata": {},
     "output_type": "execute_result"
    }
   ],
   "source": [
    "prob(\"<s> I\", \"am\", listY)"
   ]
  },
  {
   "cell_type": "code",
   "execution_count": 90,
   "id": "5bd99559",
   "metadata": {},
   "outputs": [],
   "source": [
    "listbottom = []\n",
    "listup = []\n",
    "listprob = []\n",
    "for i in listY:\n",
    "    list1=[]\n",
    "    list2=[]\n",
    "    list1.append(i[0])\n",
    "    list1.append(i[1])\n",
    "    list2.append(i[2])\n",
    "    b=i[0]+' '+i[1]\n",
    "    prob1=prob(b,list2[0],listY)\n",
    "    listbottom.append(list1)\n",
    "    listup.append(list2)\n",
    "    listprob.append(prob1)"
   ]
  },
  {
   "cell_type": "code",
   "execution_count": 91,
   "id": "68e42f54",
   "metadata": {},
   "outputs": [
    {
     "data": {
      "text/plain": [
       "[0.6666666666666666,\n",
       " 0.6666666666666666,\n",
       " 1.0,\n",
       " 1.0,\n",
       " 1.0,\n",
       " 0.3333333333333333,\n",
       " 0.6666666666666666,\n",
       " 0.6666666666666666,\n",
       " 1.0,\n",
       " 0.3333333333333333,\n",
       " 1.0,\n",
       " 1.0,\n",
       " 1.0,\n",
       " 1.0,\n",
       " 1.0,\n",
       " 1.0,\n",
       " 1.0]"
      ]
     },
     "execution_count": 91,
     "metadata": {},
     "output_type": "execute_result"
    }
   ],
   "source": [
    "listprob"
   ]
  },
  {
   "cell_type": "code",
   "execution_count": 81,
   "id": "d421d2df",
   "metadata": {},
   "outputs": [],
   "source": [
    "df=pd.DataFrame()"
   ]
  },
  {
   "cell_type": "code",
   "execution_count": 82,
   "id": "2a8e0757",
   "metadata": {},
   "outputs": [],
   "source": [
    "df[\"bottom\"]=listbottom\n",
    "df[\"up\"]=listup\n",
    "df[\"tragram\"]=listprob"
   ]
  },
  {
   "cell_type": "code",
   "execution_count": 83,
   "id": "4f8600a1",
   "metadata": {},
   "outputs": [
    {
     "data": {
      "text/html": [
       "<div>\n",
       "<style scoped>\n",
       "    .dataframe tbody tr th:only-of-type {\n",
       "        vertical-align: middle;\n",
       "    }\n",
       "\n",
       "    .dataframe tbody tr th {\n",
       "        vertical-align: top;\n",
       "    }\n",
       "\n",
       "    .dataframe thead th {\n",
       "        text-align: right;\n",
       "    }\n",
       "</style>\n",
       "<table border=\"1\" class=\"dataframe\">\n",
       "  <thead>\n",
       "    <tr style=\"text-align: right;\">\n",
       "      <th></th>\n",
       "      <th>bottom</th>\n",
       "      <th>up</th>\n",
       "      <th>tragram</th>\n",
       "    </tr>\n",
       "  </thead>\n",
       "  <tbody>\n",
       "    <tr>\n",
       "      <th>0</th>\n",
       "      <td>[&lt;s&gt;, I]</td>\n",
       "      <td>[am]</td>\n",
       "      <td>0.666667</td>\n",
       "    </tr>\n",
       "    <tr>\n",
       "      <th>1</th>\n",
       "      <td>[I, am]</td>\n",
       "      <td>[Sam]</td>\n",
       "      <td>0.666667</td>\n",
       "    </tr>\n",
       "    <tr>\n",
       "      <th>2</th>\n",
       "      <td>[am, Sam]</td>\n",
       "      <td>[&lt;/s&gt;]</td>\n",
       "      <td>1.000000</td>\n",
       "    </tr>\n",
       "    <tr>\n",
       "      <th>3</th>\n",
       "      <td>[&lt;s&gt;, Sam]</td>\n",
       "      <td>[I]</td>\n",
       "      <td>1.000000</td>\n",
       "    </tr>\n",
       "    <tr>\n",
       "      <th>4</th>\n",
       "      <td>[Sam, I]</td>\n",
       "      <td>[am]</td>\n",
       "      <td>1.000000</td>\n",
       "    </tr>\n",
       "    <tr>\n",
       "      <th>5</th>\n",
       "      <td>[I, am]</td>\n",
       "      <td>[&lt;/s&gt;]</td>\n",
       "      <td>0.333333</td>\n",
       "    </tr>\n",
       "    <tr>\n",
       "      <th>6</th>\n",
       "      <td>[&lt;s&gt;, I]</td>\n",
       "      <td>[am]</td>\n",
       "      <td>0.666667</td>\n",
       "    </tr>\n",
       "    <tr>\n",
       "      <th>7</th>\n",
       "      <td>[I, am]</td>\n",
       "      <td>[Sam]</td>\n",
       "      <td>0.666667</td>\n",
       "    </tr>\n",
       "    <tr>\n",
       "      <th>8</th>\n",
       "      <td>[am, Sam]</td>\n",
       "      <td>[&lt;/s&gt;]</td>\n",
       "      <td>1.000000</td>\n",
       "    </tr>\n",
       "    <tr>\n",
       "      <th>9</th>\n",
       "      <td>[&lt;s&gt;, I]</td>\n",
       "      <td>[do]</td>\n",
       "      <td>0.333333</td>\n",
       "    </tr>\n",
       "    <tr>\n",
       "      <th>10</th>\n",
       "      <td>[I, do]</td>\n",
       "      <td>[not]</td>\n",
       "      <td>1.000000</td>\n",
       "    </tr>\n",
       "    <tr>\n",
       "      <th>11</th>\n",
       "      <td>[do, not]</td>\n",
       "      <td>[like]</td>\n",
       "      <td>1.000000</td>\n",
       "    </tr>\n",
       "    <tr>\n",
       "      <th>12</th>\n",
       "      <td>[not, like]</td>\n",
       "      <td>[green]</td>\n",
       "      <td>1.000000</td>\n",
       "    </tr>\n",
       "    <tr>\n",
       "      <th>13</th>\n",
       "      <td>[like, green]</td>\n",
       "      <td>[eggs]</td>\n",
       "      <td>1.000000</td>\n",
       "    </tr>\n",
       "    <tr>\n",
       "      <th>14</th>\n",
       "      <td>[green, eggs]</td>\n",
       "      <td>[and]</td>\n",
       "      <td>1.000000</td>\n",
       "    </tr>\n",
       "    <tr>\n",
       "      <th>15</th>\n",
       "      <td>[eggs, and]</td>\n",
       "      <td>[Sam]</td>\n",
       "      <td>1.000000</td>\n",
       "    </tr>\n",
       "    <tr>\n",
       "      <th>16</th>\n",
       "      <td>[and, Sam]</td>\n",
       "      <td>[&lt;/s&gt;]</td>\n",
       "      <td>1.000000</td>\n",
       "    </tr>\n",
       "  </tbody>\n",
       "</table>\n",
       "</div>"
      ],
      "text/plain": [
       "           bottom       up   tragram\n",
       "0        [<s>, I]     [am]  0.666667\n",
       "1         [I, am]    [Sam]  0.666667\n",
       "2       [am, Sam]   [</s>]  1.000000\n",
       "3      [<s>, Sam]      [I]  1.000000\n",
       "4        [Sam, I]     [am]  1.000000\n",
       "5         [I, am]   [</s>]  0.333333\n",
       "6        [<s>, I]     [am]  0.666667\n",
       "7         [I, am]    [Sam]  0.666667\n",
       "8       [am, Sam]   [</s>]  1.000000\n",
       "9        [<s>, I]     [do]  0.333333\n",
       "10        [I, do]    [not]  1.000000\n",
       "11      [do, not]   [like]  1.000000\n",
       "12    [not, like]  [green]  1.000000\n",
       "13  [like, green]   [eggs]  1.000000\n",
       "14  [green, eggs]    [and]  1.000000\n",
       "15    [eggs, and]    [Sam]  1.000000\n",
       "16     [and, Sam]   [</s>]  1.000000"
      ]
     },
     "execution_count": 83,
     "metadata": {},
     "output_type": "execute_result"
    }
   ],
   "source": [
    "df"
   ]
  },
  {
   "cell_type": "code",
   "execution_count": null,
   "id": "3c1a37e6",
   "metadata": {},
   "outputs": [],
   "source": []
  }
 ],
 "metadata": {
  "kernelspec": {
   "display_name": "Python 3",
   "language": "python",
   "name": "python3"
  },
  "language_info": {
   "codemirror_mode": {
    "name": "ipython",
    "version": 3
   },
   "file_extension": ".py",
   "mimetype": "text/x-python",
   "name": "python",
   "nbconvert_exporter": "python",
   "pygments_lexer": "ipython3",
   "version": "3.8.8"
  }
 },
 "nbformat": 4,
 "nbformat_minor": 5
}
